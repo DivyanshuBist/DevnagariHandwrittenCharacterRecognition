{
 "cells": [
  {
   "cell_type": "code",
   "execution_count": 1,
   "metadata": {
    "colab": {
     "base_uri": "https://localhost:8080/"
    },
    "executionInfo": {
     "elapsed": 975,
     "status": "ok",
     "timestamp": 1626161516908,
     "user": {
      "displayName": "divyanshu bist",
      "photoUrl": "",
      "userId": "09142574276126966669"
     },
     "user_tz": -330
    },
    "id": "uEeh_oVLWXCP",
    "outputId": "797bedff-4d45-4022-e965-a5cda2c1238d"
   },
   "outputs": [
    {
     "name": "stdout",
     "output_type": "stream",
     "text": [
      "Tue Jul 13 07:31:55 2021       \n",
      "+-----------------------------------------------------------------------------+\n",
      "| NVIDIA-SMI 470.42.01    Driver Version: 460.32.03    CUDA Version: 11.2     |\n",
      "|-------------------------------+----------------------+----------------------+\n",
      "| GPU  Name        Persistence-M| Bus-Id        Disp.A | Volatile Uncorr. ECC |\n",
      "| Fan  Temp  Perf  Pwr:Usage/Cap|         Memory-Usage | GPU-Util  Compute M. |\n",
      "|                               |                      |               MIG M. |\n",
      "|===============================+======================+======================|\n",
      "|   0  Tesla T4            Off  | 00000000:00:04.0 Off |                    0 |\n",
      "| N/A   62C    P8    11W /  70W |      0MiB / 15109MiB |      0%      Default |\n",
      "|                               |                      |                  N/A |\n",
      "+-------------------------------+----------------------+----------------------+\n",
      "                                                                               \n",
      "+-----------------------------------------------------------------------------+\n",
      "| Processes:                                                                  |\n",
      "|  GPU   GI   CI        PID   Type   Process name                  GPU Memory |\n",
      "|        ID   ID                                                   Usage      |\n",
      "|=============================================================================|\n",
      "|  No running processes found                                                 |\n",
      "+-----------------------------------------------------------------------------+\n"
     ]
    }
   ],
   "source": [
    "!nvidia-smi"
   ]
  },
  {
   "cell_type": "code",
   "execution_count": 2,
   "metadata": {
    "executionInfo": {
     "elapsed": 1964,
     "status": "ok",
     "timestamp": 1626161524590,
     "user": {
      "displayName": "divyanshu bist",
      "photoUrl": "",
      "userId": "09142574276126966669"
     },
     "user_tz": -330
    },
    "id": "vDxzu-aYvqhg"
   },
   "outputs": [],
   "source": [
    "import numpy as np\n",
    "import pandas as pd\n",
    "import tensorflow as tf\n",
    "import matplotlib.pyplot as plt"
   ]
  },
  {
   "cell_type": "code",
   "execution_count": 3,
   "metadata": {
    "colab": {
     "base_uri": "https://localhost:8080/"
    },
    "executionInfo": {
     "elapsed": 6672,
     "status": "ok",
     "timestamp": 1626161537646,
     "user": {
      "displayName": "divyanshu bist",
      "photoUrl": "",
      "userId": "09142574276126966669"
     },
     "user_tz": -330
    },
    "id": "NdEJINsQz21G",
    "outputId": "57bfc0ad-594b-4263-857f-b3d0c0a6442a"
   },
   "outputs": [
    {
     "name": "stdout",
     "output_type": "stream",
     "text": [
      "(32, 32, 3)\n",
      "<class 'tuple'>\n"
     ]
    }
   ],
   "source": [
    "import cv2 \n",
    "im=cv2.imread(\"/content/drive/MyDrive/Colab Notebooks/DevanagariHandwrittenCharacterDataset/Test/character_10_yna/10544.png\")\n",
    "print(im.shape)\n",
    "print(type(im.shape))"
   ]
  },
  {
   "cell_type": "code",
   "execution_count": 4,
   "metadata": {
    "executionInfo": {
     "elapsed": 838,
     "status": "ok",
     "timestamp": 1626161541718,
     "user": {
      "displayName": "divyanshu bist",
      "photoUrl": "",
      "userId": "09142574276126966669"
     },
     "user_tz": -330
    },
    "id": "biABWB_Dyr-F"
   },
   "outputs": [],
   "source": [
    "train_path=\"/content/drive/MyDrive/Colab Notebooks/DevanagariHandwrittenCharacterDataset/Train\"\n",
    "test_path=\"/content/drive/MyDrive/Colab Notebooks/DevanagariHandwrittenCharacterDataset/Test\""
   ]
  },
  {
   "cell_type": "code",
   "execution_count": 5,
   "metadata": {
    "colab": {
     "base_uri": "https://localhost:8080/"
    },
    "executionInfo": {
     "elapsed": 74666,
     "status": "ok",
     "timestamp": 1626161634177,
     "user": {
      "displayName": "divyanshu bist",
      "photoUrl": "",
      "userId": "09142574276126966669"
     },
     "user_tz": -330
    },
    "id": "0ik3zga51RMO",
    "outputId": "7c61fde6-17d9-4e75-d0d9-4f1a762f4a76"
   },
   "outputs": [
    {
     "name": "stdout",
     "output_type": "stream",
     "text": [
      "Found 31937 files belonging to 46 classes.\n",
      "Found 13800 files belonging to 46 classes.\n"
     ]
    }
   ],
   "source": [
    "train_batchdf = tf.keras.preprocessing.image_dataset_from_directory(\n",
    "                                    directory=train_path,\n",
    "                                    image_size=(32, 32),     \n",
    "                                    label_mode=\"categorical\", \n",
    "                                    batch_size=128)  \n",
    "test_batchdf = tf.keras.preprocessing.image_dataset_from_directory(\n",
    "                                    directory=test_path,\n",
    "                                    image_size=(32, 32),\n",
    "                                    label_mode=\"categorical\",\n",
    "                                    batch_size=128)"
   ]
  },
  {
   "cell_type": "code",
   "execution_count": 6,
   "metadata": {
    "colab": {
     "base_uri": "https://localhost:8080/"
    },
    "executionInfo": {
     "elapsed": 831,
     "status": "ok",
     "timestamp": 1626161646300,
     "user": {
      "displayName": "divyanshu bist",
      "photoUrl": "",
      "userId": "09142574276126966669"
     },
     "user_tz": -330
    },
    "id": "H0XEBR7t_JDH",
    "outputId": "e2f87bad-6f4b-4ae2-f7cf-7a8286709ab1"
   },
   "outputs": [
    {
     "name": "stdout",
     "output_type": "stream",
     "text": [
      "46\n"
     ]
    }
   ],
   "source": [
    "class_names = train_batchdf.class_names\n",
    "print(len(class_names))"
   ]
  },
  {
   "cell_type": "code",
   "execution_count": null,
   "metadata": {
    "id": "pDRSavzx_bpZ"
   },
   "outputs": [],
   "source": [
    "# plt.figure(figsize=(5,5))\n",
    "# for images, labels in train_batchdf.take(1):\n",
    "#   for i in range(6):\n",
    "#     ax = plt.subplot(3, 3, i + 1)\n",
    "#     plt.imshow(images[i].numpy().astype(\"uint8\"))\n",
    "#     plt.axis(\"off\")"
   ]
  },
  {
   "cell_type": "code",
   "execution_count": 7,
   "metadata": {
    "executionInfo": {
     "elapsed": 420,
     "status": "ok",
     "timestamp": 1626161650653,
     "user": {
      "displayName": "divyanshu bist",
      "photoUrl": "",
      "userId": "09142574276126966669"
     },
     "user_tz": -330
    },
    "id": "k963x2mw_oB_"
   },
   "outputs": [],
   "source": [
    "input_shape_arg=(32, 32, 3) \n",
    "model_cnn=tf.keras.Sequential([\n",
    "        tf.keras.layers.experimental.preprocessing.Rescaling(1./255),\n",
    "      tf.keras.layers.Conv2D(filters=32, kernel_size=3, activation='relu', padding='same', input_shape=input_shape_arg),\n",
    "       tf.keras.layers.MaxPool2D(pool_size=(2,2),strides=2),\n",
    "      #  tf.keras.layers.Conv2D(filters=64, kernel_size=3, activation='relu', padding='same',strides=1),\n",
    "      #  tf.keras.layers.MaxPool2D(pool_size=(2,2),strides=2),\n",
    "       tf.keras.layers.Flatten(),\n",
    "        # tf.keras.layers.Dense(128, activation='relu'),\n",
    "        tf.keras.layers.Dense(46, activation='softmax')\n",
    "])"
   ]
  },
  {
   "cell_type": "code",
   "execution_count": 8,
   "metadata": {
    "executionInfo": {
     "elapsed": 461,
     "status": "ok",
     "timestamp": 1626161659040,
     "user": {
      "displayName": "divyanshu bist",
      "photoUrl": "",
      "userId": "09142574276126966669"
     },
     "user_tz": -330
    },
    "id": "gVaU42eoFq_Q"
   },
   "outputs": [],
   "source": [
    "model_cnn.compile(loss=tf.keras.losses.CategoricalCrossentropy(),   # Since the label_mode is categorical\n",
    "              optimizer=tf.keras.optimizers.Adam(),                 # Optimizer of choice - implements the Adam algorithm.\n",
    "              metrics=['accuracy'])"
   ]
  },
  {
   "cell_type": "code",
   "execution_count": 9,
   "metadata": {
    "colab": {
     "base_uri": "https://localhost:8080/"
    },
    "executionInfo": {
     "elapsed": 6165583,
     "status": "ok",
     "timestamp": 1626167829540,
     "user": {
      "displayName": "divyanshu bist",
      "photoUrl": "",
      "userId": "09142574276126966669"
     },
     "user_tz": -330
    },
    "id": "ZkUIQc_euIXk",
    "outputId": "e9643ad5-0739-4c70-e621-2547ed3bfb2c"
   },
   "outputs": [
    {
     "name": "stdout",
     "output_type": "stream",
     "text": [
      "Epoch 1/2\n",
      "250/250 [==============================] - 6028s 23s/step - loss: 1.0459 - accuracy: 0.7308 - val_loss: 0.8060 - val_accuracy: 0.7829\n",
      "Epoch 2/2\n",
      "250/250 [==============================] - 42s 167ms/step - loss: 0.3375 - accuracy: 0.9077 - val_loss: 0.5886 - val_accuracy: 0.8401\n"
     ]
    }
   ],
   "source": [
    "model_cnn.fit(train_batchdf,\n",
    "                            epochs=2,\n",
    "                            steps_per_epoch=len(train_batchdf), # Want to run every training batch\n",
    "                            validation_data=test_batchdf,\n",
    "                            validation_steps=len(test_batchdf))"
   ]
  },
  {
   "cell_type": "code",
   "execution_count": null,
   "metadata": {
    "id": "9NLhlUoQm6Xl"
   },
   "outputs": [],
   "source": []
  },
  {
   "cell_type": "code",
   "execution_count": null,
   "metadata": {
    "id": "XWXUFLvpMaJi"
   },
   "outputs": [],
   "source": []
  }
 ],
 "metadata": {
  "colab": {
   "authorship_tag": "ABX9TyOYJBF15Bkzn/+/pY3wzDtL",
   "collapsed_sections": [],
   "mount_file_id": "1J9kHvfSVTkuJ6ybXANjq6rXsF931S9jD",
   "name": "Untitled1.ipynb",
   "provenance": []
  },
  "kernelspec": {
   "display_name": "Python 3",
   "language": "python",
   "name": "python3"
  },
  "language_info": {
   "codemirror_mode": {
    "name": "ipython",
    "version": 3
   },
   "file_extension": ".py",
   "mimetype": "text/x-python",
   "name": "python",
   "nbconvert_exporter": "python",
   "pygments_lexer": "ipython3",
   "version": "3.8.5"
  }
 },
 "nbformat": 4,
 "nbformat_minor": 1
}
